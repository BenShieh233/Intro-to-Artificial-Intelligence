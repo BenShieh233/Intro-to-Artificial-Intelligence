{
 "cells": [
  {
   "cell_type": "code",
   "execution_count": 1,
   "id": "769cdc54-cc70-4b4d-b6f6-2a735695d56c",
   "metadata": {},
   "outputs": [],
   "source": [
    "import sys\n",
    "import math"
   ]
  },
  {
   "cell_type": "markdown",
   "id": "5d9e9447-25c6-4052-8639-4cfad05fb3da",
   "metadata": {},
   "source": [
    "Your program should read from the input file named “letter.txt” in the same directory as hw2.py. We will supply this text file when we grade your program. For developing your code, copy any one of the samples/letter[0− 4].txt files as letter.txt."
   ]
  },
  {
   "cell_type": "code",
   "execution_count": 2,
   "id": "023939aa-1b3f-4222-9666-6fbd60eaaaca",
   "metadata": {},
   "outputs": [],
   "source": [
    "#Q1\n",
    "with open('letter.txt', encoding='utf-8') as f:\n",
    "    text = f.read()\n",
    "\n",
    "    # Initialize a dictionary with all uppercase letters A to Z and counts initialized to 0\n",
    "    char_counts = {char: 0 for char in 'ABCDEFGHIJKLMNOPQRSTUVWXYZ'}\n",
    "\n",
    "    # Update the counts based on the characters in the text\n",
    "    for char in text:\n",
    "        if char.isalpha():\n",
    "            char = char.upper()\n",
    "            if char in char_counts:\n",
    "                char_counts[char] += 1\n",
    "f.close()\n",
    "\n",
    "with open('letter_output.txt', 'w') as f:\n",
    "    f.write(\"Q1\\n\")\n",
    "    for char, count in char_counts.items():\n",
    "        f.write(f\"{char} {count}\\n\")\n",
    "f.close()"
   ]
  },
  {
   "cell_type": "code",
   "execution_count": null,
   "id": "169ed4cc-44d4-4d0f-9d75-9bc8726c9691",
   "metadata": {},
   "outputs": [],
   "source": []
  },
  {
   "cell_type": "code",
   "execution_count": 3,
   "id": "f439d199-1210-4886-b627-c5e08199820a",
   "metadata": {},
   "outputs": [
    {
     "data": {
      "text/plain": [
       "{'A': 4,\n",
       " 'B': 2,\n",
       " 'C': 2,\n",
       " 'D': 2,\n",
       " 'E': 5,\n",
       " 'F': 2,\n",
       " 'G': 1,\n",
       " 'H': 2,\n",
       " 'I': 7,\n",
       " 'J': 0,\n",
       " 'K': 0,\n",
       " 'L': 4,\n",
       " 'M': 0,\n",
       " 'N': 5,\n",
       " 'O': 3,\n",
       " 'P': 1,\n",
       " 'Q': 0,\n",
       " 'R': 2,\n",
       " 'S': 3,\n",
       " 'T': 4,\n",
       " 'U': 1,\n",
       " 'V': 0,\n",
       " 'W': 0,\n",
       " 'X': 0,\n",
       " 'Y': 1,\n",
       " 'Z': 0}"
      ]
     },
     "execution_count": 3,
     "metadata": {},
     "output_type": "execute_result"
    }
   ],
   "source": [
    "#Q1\n",
    "def shred(filename):\n",
    "\n",
    "    X = {char: 0 for char in 'ABCDEFGHIJKLMNOPQRSTUVWXYZ'}\n",
    "    with open(filename, encoding='utf-8') as f:\n",
    "        text = f.read()\n",
    "        # Update the counts based on the characters in the text\n",
    "        for char in text:\n",
    "            if char.isalpha():\n",
    "                char = char.upper()\n",
    "                if char in X:\n",
    "                    X[char] += 1\n",
    "\n",
    "    with open('letter_output.txt', 'w') as f:\n",
    "        f.write(\"Q1\\n\")\n",
    "        for char, count in X.items():\n",
    "            f.write(f\"{char} {count}\\n\")\n",
    "\n",
    "    return X\n",
    "\n",
    "# Call the function with the 'letter.txt' filename\n",
    "shred('letter.txt')"
   ]
  },
  {
   "cell_type": "code",
   "execution_count": 4,
   "id": "f69b5177-cfa0-4588-a5ef-5f47d5cfe2dd",
   "metadata": {},
   "outputs": [
    {
     "data": {
      "text/plain": [
       "[4, 2, 2, 2, 5, 2, 1, 2, 7, 0, 0, 4, 0, 5, 3, 1, 0, 2, 3, 4, 1, 0, 0, 0, 1, 0]"
      ]
     },
     "execution_count": 4,
     "metadata": {},
     "output_type": "execute_result"
    }
   ],
   "source": [
    "list(shred('letter.txt').values())"
   ]
  },
  {
   "cell_type": "code",
   "execution_count": 1,
   "id": "62c848ec-1ccf-4018-a798-b953479d31a7",
   "metadata": {},
   "outputs": [],
   "source": [
    "def get_parameter_vectors():\n",
    "    '''\n",
    "    This function parses e.txt and s.txt to get the  26-dimensional multinomial\n",
    "    parameter vector (characters probabilities of English and Spanish) as\n",
    "    descibed in section 1.2 of the writeup\n",
    "\n",
    "    Returns: tuple of vectors e and s\n",
    "    '''\n",
    "    #Implementing vectors e,s as lists (arrays) of length 26\n",
    "    #with p[0] being the probability of 'A' and so on\n",
    "    e=[0]*26\n",
    "    s=[0]*26\n",
    "\n",
    "    with open('e.txt',encoding='utf-8') as f:\n",
    "        for line in f:\n",
    "            #strip: removes the newline character\n",
    "            #split: split the string on space character\n",
    "            char,prob=line.strip().split(\" \")\n",
    "            #ord('E') gives the ASCII (integer) value of character 'E'\n",
    "            #we then subtract it from 'A' to give array index\n",
    "            #This way 'A' gets index 0 and 'Z' gets index 25.\n",
    "            e[ord(char)-ord('A')]=float(prob)\n",
    "    f.close()\n",
    "\n",
    "    with open('s.txt',encoding='utf-8') as f:\n",
    "        for line in f:\n",
    "            char,prob=line.strip().split(\" \")\n",
    "            s[ord(char)-ord('A')]=float(prob)\n",
    "    f.close()\n",
    "\n",
    "    return (e,s)"
   ]
  },
  {
   "cell_type": "code",
   "execution_count": 3,
   "id": "de96d1c8-5867-4a8e-bc18-41b1bd66e76f",
   "metadata": {},
   "outputs": [
    {
     "data": {
      "text/plain": [
       "[0.0834417,\n",
       " 0.0154077,\n",
       " 0.0273137,\n",
       " 0.0414207,\n",
       " 0.126063,\n",
       " 0.0203102,\n",
       " 0.0192096,\n",
       " 0.0611306,\n",
       " 0.0671336,\n",
       " 0.00230115,\n",
       " 0.00870435,\n",
       " 0.0424212,\n",
       " 0.0253127,\n",
       " 0.068034,\n",
       " 0.0770385,\n",
       " 0.0166083,\n",
       " 0.00090045,\n",
       " 0.0568284,\n",
       " 0.0611306,\n",
       " 0.0937469,\n",
       " 0.0285143,\n",
       " 0.0106053,\n",
       " 0.0234117,\n",
       " 0.002001,\n",
       " 0.0204102,\n",
       " 0.0006003]"
      ]
     },
     "execution_count": 3,
     "metadata": {},
     "output_type": "execute_result"
    }
   ],
   "source": [
    "get_parameter_vectors()[0]"
   ]
  },
  {
   "cell_type": "code",
   "execution_count": 38,
   "id": "5ab8c69e-f1e7-45db-9199-f207aec5aad2",
   "metadata": {},
   "outputs": [
    {
     "name": "stdout",
     "output_type": "stream",
     "text": [
      "-9.9344 -8.4265\n"
     ]
    }
   ],
   "source": [
    "#Q2\n",
    "e, s = get_parameter_vectors()[0], get_parameter_vectors()[1]\n",
    "x1loge1 = round(X[0] * math.log(e[0]), 4)\n",
    "x1logs1 = round(X[0] * math.log(s[0]), 4)\n",
    "print(x1loge1, x1logs1)"
   ]
  },
  {
   "cell_type": "code",
   "execution_count": 50,
   "id": "592b6422-5355-4a4f-9d96-e1956734be60",
   "metadata": {},
   "outputs": [],
   "source": [
    "#Q3\n",
    "PEng = 0.6\n",
    "PSpan = 0.4\n",
    "X = list(shred('letter.txt').values())\n",
    "Xilogei, Xilogsi = 0, 0\n",
    "for i in range(len(X)):\n",
    "    Xilogei += X[i] * math.log(e[i])\n",
    "    Xilogsi += X[i] * math.log(s[i])"
   ]
  },
  {
   "cell_type": "code",
   "execution_count": 62,
   "id": "34ba3f0e-2b6c-4b92-aa2b-a1d321f4f7ee",
   "metadata": {},
   "outputs": [],
   "source": [
    "FEng = round(Xilogei+math.log(PEng) ,4)"
   ]
  },
  {
   "cell_type": "code",
   "execution_count": 63,
   "id": "aa31b1f8-90b5-4381-aa4a-fcf87b975559",
   "metadata": {},
   "outputs": [],
   "source": [
    "FSpan = round(Xilogsi+math.log(PSpan), 4)"
   ]
  },
  {
   "cell_type": "code",
   "execution_count": 76,
   "id": "e83dc927-c4c7-4bb7-b9bb-e4c0d2552f11",
   "metadata": {},
   "outputs": [],
   "source": [
    "#Q4\n",
    "def compute_conditional_prob():\n",
    "    Prob_Eng = 0\n",
    "    if FSpan - FEng >= 100:\n",
    "        Prob_Eng_ = 0\n",
    "    elif FSpan - FEng <= -100:\n",
    "        Prob_Eng = 1\n",
    "    else:\n",
    "        Prob_Eng = 1/(1 + math.exp(FSpan - FEng))\n",
    "    return round(Prob_Eng, 4)"
   ]
  },
  {
   "cell_type": "code",
   "execution_count": 77,
   "id": "5dca250b-690f-4aa2-9838-7af66310bbe9",
   "metadata": {},
   "outputs": [
    {
     "data": {
      "text/plain": [
       "0.9894"
      ]
     },
     "execution_count": 77,
     "metadata": {},
     "output_type": "execute_result"
    }
   ],
   "source": [
    "compute_conditional_prob()"
   ]
  },
  {
   "cell_type": "code",
   "execution_count": 73,
   "id": "0ea83c55-b4f1-4241-a106-ed393da6d3f6",
   "metadata": {},
   "outputs": [
    {
     "ename": "TypeError",
     "evalue": "unsupported operand type(s) for ** or pow(): 'list' and 'float'",
     "output_type": "error",
     "traceback": [
      "\u001b[1;31m---------------------------------------------------------------------------\u001b[0m",
      "\u001b[1;31mTypeError\u001b[0m                                 Traceback (most recent call last)",
      "\u001b[1;32m~\\AppData\\Local\\Temp\\ipykernel_45800\\420593360.py\u001b[0m in \u001b[0;36m<module>\u001b[1;34m\u001b[0m\n\u001b[1;32m----> 1\u001b[1;33m \u001b[0me\u001b[0m\u001b[1;33m**\u001b[0m\u001b[1;33m(\u001b[0m\u001b[0mFSpan\u001b[0m \u001b[1;33m-\u001b[0m \u001b[0mFEng\u001b[0m\u001b[1;33m)\u001b[0m\u001b[1;33m\u001b[0m\u001b[1;33m\u001b[0m\u001b[0m\n\u001b[0m",
      "\u001b[1;31mTypeError\u001b[0m: unsupported operand type(s) for ** or pow(): 'list' and 'float'"
     ]
    }
   ],
   "source": [
    " e**(FSpan - FEng)"
   ]
  }
 ],
 "metadata": {
  "kernelspec": {
   "display_name": "Python 3 (ipykernel)",
   "language": "python",
   "name": "python3"
  },
  "language_info": {
   "codemirror_mode": {
    "name": "ipython",
    "version": 3
   },
   "file_extension": ".py",
   "mimetype": "text/x-python",
   "name": "python",
   "nbconvert_exporter": "python",
   "pygments_lexer": "ipython3",
   "version": "3.9.13"
  }
 },
 "nbformat": 4,
 "nbformat_minor": 5
}
